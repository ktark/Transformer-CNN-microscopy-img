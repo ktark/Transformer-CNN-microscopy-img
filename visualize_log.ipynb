{
 "cells": [
  {
   "cell_type": "markdown",
   "id": "6ece91a4",
   "metadata": {
    "pycharm": {
     "name": "#%% md\n"
    }
   },
   "source": [
    "## check weights"
   ]
  },
  {
   "cell_type": "code",
   "execution_count": 20,
   "id": "e1031bfe",
   "metadata": {},
   "outputs": [],
   "source": [
    "import torch"
   ]
  },
  {
   "cell_type": "code",
   "execution_count": 37,
   "id": "cfbd269a",
   "metadata": {},
   "outputs": [],
   "source": [
    "pretrain = torch.load('epoch_299.pth',map_location=torch.device('cpu'))\n",
    "pretrain2 = torch.load('epoch_199.pth',map_location=torch.device('cpu'))\n"
   ]
  },
  {
   "cell_type": "code",
   "execution_count": 59,
   "id": "6b4cdda3",
   "metadata": {},
   "outputs": [],
   "source": [
    "#pretrain.keys()"
   ]
  },
  {
   "cell_type": "code",
   "execution_count": 60,
   "id": "6cbe1e67",
   "metadata": {},
   "outputs": [],
   "source": [
    "model1 = pretrain['additionalCnn.cnn8.1.weight']\n",
    "model2 = pretrain2['additionalCnn.cnn8.0.weight']\n",
    "#print(model1 - model2)\n"
   ]
  },
  {
   "cell_type": "markdown",
   "id": "31540a72",
   "metadata": {
    "pycharm": {
     "name": "#%% md\n"
    }
   },
   "source": [
    "## check training"
   ]
  },
  {
   "cell_type": "code",
   "execution_count": 14,
   "id": "00b46cbf",
   "metadata": {},
   "outputs": [],
   "source": [
    "import numpy as np\n",
    "import pandas as pd\n",
    "import re\n",
    "\n",
    "def read_line_row(row):\n",
    "    try:\n",
    "        t = re.split('''iteration (\\d*).{10}(\\d*.\\d*).{11}(\\d*.\\d*)''', row)\n",
    "        return int(t[1]), float(t[2]), float(t[3])\n",
    "    except IndexError:\n",
    "        None\n",
    "        \n",
    "def visualize_log(log_file, step=100):\n",
    "    i_list = []\n",
    "    l_list = []\n",
    "    ce_list = []\n",
    "    with open(log_file) as f:\n",
    "        for line in f:\n",
    "            i = read_line_row(line)\n",
    "            if (i != None):\n",
    "                i_list.append(i[0])\n",
    "                l_list.append(i[1])\n",
    "                ce_list.append(i[2])\n",
    "    df=pd.DataFrame({'i_list':i_list,'l_list':l_list, 'ce_list': ce_list})\n",
    "    grouped = df.groupby(pd.cut(df[\"i_list\"], np.arange(0, 20000, step))).mean()\n",
    "    plt.plot(grouped.i_list, grouped.l_list)\n",
    "    plt.title(log_file)\n",
    "    plt.show()\n",
    "    return (df, grouped)"
   ]
  }
 ],
 "metadata": {
  "kernelspec": {
   "display_name": "Python 3",
   "language": "python",
   "name": "python3"
  },
  "language_info": {
   "codemirror_mode": {
    "name": "ipython",
    "version": 3
   },
   "file_extension": ".py",
   "mimetype": "text/x-python",
   "name": "python",
   "nbconvert_exporter": "python",
   "pygments_lexer": "ipython3",
   "version": "3.9.4"
  }
 },
 "nbformat": 4,
 "nbformat_minor": 5
}